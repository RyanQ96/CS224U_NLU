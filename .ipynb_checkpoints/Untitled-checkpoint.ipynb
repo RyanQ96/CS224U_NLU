{
 "cells": [
  {
   "cell_type": "markdown",
   "metadata": {},
   "source": [
    "# Sample input:\n",
    "[['9:00', '10:30'], ['12:00', '13:00'], ['16:00', '18:00']]\n",
    "['9:00', '20:00']\n",
    "<hr>\n",
    "[['10:00', '11:30'],['12:30', '14:30'], ['14:30', '15:00'], ['16:00', '17:00']]\n",
    "['10:00', '18:30']"
   ]
  },
  {
   "cell_type": "code",
   "execution_count": 2,
   "metadata": {},
   "outputs": [],
   "source": [
    "def strToTime(timeStr):\n",
    "    hour = int(timeStr.split(':')[0])\n",
    "    minute = int(timeStr.split(':')[1])\n",
    "    return hour * 60 + minute"
   ]
  },
  {
   "cell_type": "code",
   "execution_count": null,
   "metadata": {},
   "outputs": [],
   "source": []
  }
 ],
 "metadata": {
  "kernelspec": {
   "display_name": "Python 3",
   "language": "python",
   "name": "python3"
  },
  "language_info": {
   "codemirror_mode": {
    "name": "ipython",
    "version": 3
   },
   "file_extension": ".py",
   "mimetype": "text/x-python",
   "name": "python",
   "nbconvert_exporter": "python",
   "pygments_lexer": "ipython3",
   "version": "3.7.6"
  }
 },
 "nbformat": 4,
 "nbformat_minor": 4
}
